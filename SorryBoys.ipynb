{
  "nbformat": 4,
  "nbformat_minor": 0,
  "metadata": {
    "colab": {
      "provenance": [],
      "authorship_tag": "ABX9TyMFdy3fYhNmz5im8A1Hg8y8",
      "include_colab_link": true
    },
    "kernelspec": {
      "name": "python3",
      "display_name": "Python 3"
    },
    "language_info": {
      "name": "python"
    }
  },
  "cells": [
    {
      "cell_type": "markdown",
      "metadata": {
        "id": "view-in-github",
        "colab_type": "text"
      },
      "source": [
        "<a href=\"https://colab.research.google.com/github/ZzYxXxWw/Zyx/blob/abcdefg/SorryBoys.ipynb\" target=\"_parent\"><img src=\"https://colab.research.google.com/assets/colab-badge.svg\" alt=\"Open In Colab\"/></a>"
      ]
    },
    {
      "cell_type": "code",
      "execution_count": null,
      "metadata": {
        "id": "ki68Q08Mmp1-"
      },
      "outputs": [],
      "source": [
        "import pandas as pd import numpy as np\n",
        "import matplotlib.pyplot as plt\n",
        "\n",
        "from sklearn.datasets import load_iris\n",
        "\n",
        "from sklearn.cluster import AgglomerativeClustering\n",
        "\n",
        "from sklearn.metrics import silhouette_samples, silhouette_score import seaborn as sns\n",
        "from scipy.cluster.hierarchy import dendrogram, linkage from scipy.spatial.distance import pdist\n",
        "# Load the Iris dataset iris = load_iris()\n",
        "X = iris.data y = iris.target\n",
        "\n",
        "# (a) Identifying the Number of Clusters # Calculate the linkage matrix\n",
        "linkage_matrix = linkage(X, method='ward') # You can choose different linkage methods # Use a dendrogram to identify the number of clusters\n",
        "dendrogram(linkage_matrix) plt.title('Dendrogram') plt.xlabel('Samples') plt.ylabel('Distance') plt.show()\n",
        "# Choose the number of clusters based on dendrogram n_clusters = 3 # Example: 3 clusters\n",
        "# Perform hierarchical clustering\n",
        "hierarchical = AgglomerativeClustering(n_clusters=n_clusters) cluster_memberships = hierarchical.fit_predict(X)\n",
        "# Select two features for the scatter plot (change as needed) feature1 = 0\n",
        "feature2 = 1\n",
        "\n",
        "plt.scatter(X[cluster_memberships == 0, feature1], X[cluster_memberships == 0, feature2], c='red', label='Cluster 1')\n",
        "plt.scatter(X[cluster_memberships == 1, feature1], X[cluster_memberships == 1, feature2], c='blue', label='Cluster 2')\n",
        "plt.scatter(X[cluster_memberships == 2, feature1], X[cluster_memberships == 2, feature2], c='green', label='Cluster 3')\n",
        "plt.xlabel(iris.feature_names[feature1]) plt.ylabel(iris.feature_names[feature2]) plt.legend()\n",
        "\n",
        "plt.title('Scatter Plot of Clustered Objects') plt.show()\n",
        "# (d) Creating a Barplot for Silhouette Coefficients silhouette_avg = silhouette_score(X, cluster_memberships)\n",
        "sample_silhouette_values = silhouette_samples(X, cluster_memberships) sns.barplot(x=sample_silhouette_values, y=range(len(sample_silhouette_values))) plt.xlabel('Silhouette Coefficient')\n",
        "plt.ylabel('Cluster')\n",
        "\n",
        "plt.title(f'Silhouette Coefficients for {n_clusters} Clusters (Avg: {silhouette_avg:.2f})') plt.show()\n"
      ]
    }
  ]
}